{
 "cells": [
  {
   "cell_type": "code",
   "execution_count": 1,
   "metadata": {
    "collapsed": false
   },
   "outputs": [
    {
     "name": "stdout",
     "output_type": "stream",
     "text": [
      "my age is  25  and my birthday is in  16  days and  8  months\n"
     ]
    }
   ],
   "source": [
    "from datetime import *; from dateutil.relativedelta import *\n",
    "import calendar\n",
    "\n",
    "\n",
    "timeNow = date.today()\n",
    "myDate = date(1991,12,27)\n",
    "thisYearBday = date(timeNow.year,myDate.month,myDate.day)\n",
    "\n",
    "# if bday is yet to come then same year else next year\n",
    "if(timeNow < thisYearBday) :\n",
    "  nextBday = thisYearBday\n",
    "else :\n",
    "  nextBday = thisYearBday + relativedelta(years=+1)\n",
    "\n",
    "currentAge = relativedelta(timeNow,myDate).years\n",
    "timeToNextBday = relativedelta(nextBday,timeNow)\n",
    "\n",
    "print(\"my age is \", currentAge , \" and my birthday is in \", timeToNextBday.days, \" days and \" ,timeToNextBday.months, \" months\")"
   ]
  },
  {
   "cell_type": "code",
   "execution_count": 3,
   "metadata": {
    "collapsed": false
   },
   "outputs": [
    {
     "name": "stdout",
     "output_type": "stream",
     "text": [
      "my name is  manas  my age is  31  and my birthday is in  15  days and  4  months\n"
     ]
    }
   ],
   "source": [
    "from datetime import *; from dateutil.relativedelta import *\n",
    "import calendar\n",
    "\n",
    "def make_birthday_intro(name, myDate) : \n",
    "  timeNow = date.today()\n",
    "#myDate = date(1991,12,27)\n",
    "  thisYearBday = date(timeNow.year,myDate.month,myDate.day)\n",
    "\n",
    "# if bday is yet to come then same year else next year\n",
    "  if(timeNow < thisYearBday) :\n",
    "    nextBday = thisYearBday\n",
    "  else :\n",
    "    nextBday = thisYearBday + relativedelta(years=+1)\n",
    "\n",
    "  currentAge = relativedelta(timeNow,myDate).years\n",
    "  timeToNextBday = relativedelta(nextBday,timeNow)\n",
    "\n",
    "  print(\"my name is \" , name , \" my age is \", currentAge , \" and my birthday is in \", timeToNextBday.days, \" days and \" ,timeToNextBday.months, \" months\")\n",
    "\n",
    "  return\n",
    "\n",
    "make_birthday_intro(\"manas\",date(1985,8,26))"
   ]
  },
  {
   "cell_type": "code",
   "execution_count": null,
   "metadata": {
    "collapsed": true
   },
   "outputs": [],
   "source": []
  }
 ],
 "metadata": {
  "kernelspec": {
   "display_name": "Python 3",
   "language": "python",
   "name": "python3"
  },
  "language_info": {
   "codemirror_mode": {
    "name": "ipython",
    "version": 3
   },
   "file_extension": ".py",
   "mimetype": "text/x-python",
   "name": "python",
   "nbconvert_exporter": "python",
   "pygments_lexer": "ipython3",
   "version": "3.6.0"
  }
 },
 "nbformat": 4,
 "nbformat_minor": 2
}
