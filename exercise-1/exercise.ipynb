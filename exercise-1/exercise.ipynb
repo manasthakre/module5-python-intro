{
 "cells": [
  {
   "cell_type": "markdown",
   "metadata": {},
   "source": [
    "# Exercise-1\n",
    "Add the specified code for each code cell, running the cells _in order_."
   ]
  },
  {
   "cell_type": "markdown",
   "metadata": {},
   "source": [
    "Create a variable `food` that stores your favorite kind of food. Print or output the variable."
   ]
  },
  {
   "cell_type": "code",
   "execution_count": 4,
   "metadata": {
    "collapsed": false
   },
   "outputs": [
    {
     "name": "stdout",
     "output_type": "stream",
     "text": [
      "my favorite food is Egg Biryani\n"
     ]
    }
   ],
   "source": [
    "food_name=\"Egg Biryani\"\n",
    "message= \"my favorite food is \"+food_name\n",
    "print(message)\n"
   ]
  },
  {
   "cell_type": "markdown",
   "metadata": {},
   "source": [
    "Create a variable `restaurant` that stores your favorite place to eat that kind of food."
   ]
  },
  {
   "cell_type": "code",
   "execution_count": 6,
   "metadata": {
    "collapsed": false
   },
   "outputs": [
    {
     "name": "stdout",
     "output_type": "stream",
     "text": [
      "my favorite food is Egg Biryani and I love to eat that in Paradise Hyderabad\n"
     ]
    }
   ],
   "source": [
    "food_name=\"Egg Biryani\"\n",
    "restaurant=\"Paradise Hyderabad\"\n",
    "message= \"my favorite food is \"+food_name+\" and I love to eat that in \"+restaurant\n",
    "print(message)"
   ]
  },
  {
   "cell_type": "markdown",
   "metadata": {},
   "source": [
    "Print the message `\"I'm going to RESTAURANT for some FOOD\"`, replacing the restaurant and food with your variables."
   ]
  },
  {
   "cell_type": "code",
   "execution_count": 7,
   "metadata": {
    "collapsed": false
   },
   "outputs": [
    {
     "name": "stdout",
     "output_type": "stream",
     "text": [
      "I'm going to Paradise Hyderabad for some Egg Biryani\n"
     ]
    }
   ],
   "source": [
    "newmessage= \"I'm going to \"+restaurant+\" for some \"+food_name\n",
    "print(newmessage)"
   ]
  },
  {
   "cell_type": "markdown",
   "metadata": {},
   "source": [
    "Create a variable `num_friends` equal to the number of friends you would like to eat with."
   ]
  },
  {
   "cell_type": "code",
   "execution_count": 8,
   "metadata": {
    "collapsed": true
   },
   "outputs": [],
   "source": [
    "num_friends=4\n"
   ]
  },
  {
   "cell_type": "markdown",
   "metadata": {},
   "source": [
    "Print a message `\"I'm going with X friends\"`, replacing the X with the number of friends. "
   ]
  },
  {
   "cell_type": "code",
   "execution_count": 9,
   "metadata": {
    "collapsed": false
   },
   "outputs": [
    {
     "name": "stdout",
     "output_type": "stream",
     "text": [
      "I'm going with 4 friends\n"
     ]
    }
   ],
   "source": [
    "message=\"I'm going with \"+str(num_friends)+\" friends\"\n",
    "print(message)"
   ]
  },
  {
   "cell_type": "markdown",
   "metadata": {},
   "source": [
    "Create a variable `meal_price`, which is how expensive you think one meal at the restaurant would be. This price should be a `float`."
   ]
  },
  {
   "cell_type": "code",
   "execution_count": 22,
   "metadata": {
    "collapsed": false
   },
   "outputs": [],
   "source": [
    "x=220\n",
    "meal_price=float (x)"
   ]
  },
  {
   "cell_type": "markdown",
   "metadata": {},
   "source": [
    "Update (re-assign) the `meal_price` variable so it includes a 15% tip&mdash;that is, so the price is 15% higher. Output the variable."
   ]
  },
  {
   "cell_type": "code",
   "execution_count": 26,
   "metadata": {
    "collapsed": false
   },
   "outputs": [
    {
     "name": "stdout",
     "output_type": "stream",
     "text": [
      "252.99999999999997\n"
     ]
    }
   ],
   "source": [
    "meal_price=x*1.15\n",
    "print(float(meal_price))"
   ]
  },
  {
   "cell_type": "markdown",
   "metadata": {},
   "source": [
    "Create a variable `total_cost` that has the total estimated cost of the bill for you and all of your friends. Output or print the variable"
   ]
  },
  {
   "cell_type": "code",
   "execution_count": 27,
   "metadata": {
    "collapsed": false
   },
   "outputs": [
    {
     "name": "stdout",
     "output_type": "stream",
     "text": [
      "1011.9999999999999\n"
     ]
    }
   ],
   "source": [
    "total_cost=meal_price*num_friends\n",
    "print(total_cost)"
   ]
  },
  {
   "cell_type": "markdown",
   "metadata": {},
   "source": [
    "Create a variable `budget` representing your spending budget for a night out."
   ]
  },
  {
   "cell_type": "code",
   "execution_count": 28,
   "metadata": {
    "collapsed": true
   },
   "outputs": [],
   "source": [
    "budget=2500"
   ]
  },
  {
   "cell_type": "markdown",
   "metadata": {},
   "source": [
    "Create a variable `max_friends`, which is the maximum number of friends you can invite, at the estimated meal price, while staying within your budget. Output or print this value.\n",
    "- Be carefully that you only invite whole people!"
   ]
  },
  {
   "cell_type": "code",
   "execution_count": 29,
   "metadata": {
    "collapsed": false
   },
   "outputs": [
    {
     "name": "stdout",
     "output_type": "stream",
     "text": [
      "9\n"
     ]
    }
   ],
   "source": [
    "max_friends=int(budget/meal_price)\n",
    "print(max_friends)"
   ]
  },
  {
   "cell_type": "markdown",
   "metadata": {},
   "source": [
    "Bonus: Create a variable `chorus` that is the string `\"FOOD time!\"` _repeated_ once for each of the friends you are able to bring. _Hint_ use the **`*`** operator. Print out the variable."
   ]
  },
  {
   "cell_type": "code",
   "execution_count": 46,
   "metadata": {
    "collapsed": false
   },
   "outputs": [
    {
     "name": "stdout",
     "output_type": "stream",
     "text": [
      "food time\tfood time\tfood time\tfood time\tfood time\tfood time\tfood time\tfood time\tfood time\t\n"
     ]
    }
   ],
   "source": [
    "chorus=\"food time\"\n",
    "print(\"food time\\t\" *max_friends)"
   ]
  },
  {
   "cell_type": "markdown",
   "metadata": {},
   "source": [
    "Modify the above cell so that each `\"FOOD time!\"` is on a separate line (_hint_: use a newline character!), then rerun the cell.\n"
   ]
  },
  {
   "cell_type": "code",
   "execution_count": 47,
   "metadata": {
    "collapsed": false
   },
   "outputs": [
    {
     "name": "stdout",
     "output_type": "stream",
     "text": [
      "food time\n",
      "food time\n",
      "food time\n",
      "food time\n",
      "food time\n",
      "food time\n",
      "food time\n",
      "food time\n",
      "food time\n",
      "\n"
     ]
    }
   ],
   "source": [
    "print(\"food time\\n\" *max_friends)"
   ]
  },
  {
   "cell_type": "code",
   "execution_count": null,
   "metadata": {
    "collapsed": true
   },
   "outputs": [],
   "source": []
  }
 ],
 "metadata": {
  "kernelspec": {
   "display_name": "Python 3",
   "language": "python",
   "name": "python3"
  },
  "language_info": {
   "codemirror_mode": {
    "name": "ipython",
    "version": 3
   },
   "file_extension": ".py",
   "mimetype": "text/x-python",
   "name": "python",
   "nbconvert_exporter": "python",
   "pygments_lexer": "ipython3",
   "version": "3.6.0"
  },
  "toc": {
   "colors": {
    "hover_highlight": "#DAA520",
    "running_highlight": "#FF0000",
    "selected_highlight": "#FFD700"
   },
   "moveMenuLeft": true,
   "nav_menu": {
    "height": "30px",
    "width": "252px"
   },
   "navigate_menu": true,
   "number_sections": true,
   "sideBar": true,
   "threshold": 4,
   "toc_cell": false,
   "toc_section_display": "block",
   "toc_window_display": false,
   "widenNotebook": false
  }
 },
 "nbformat": 4,
 "nbformat_minor": 2
}
